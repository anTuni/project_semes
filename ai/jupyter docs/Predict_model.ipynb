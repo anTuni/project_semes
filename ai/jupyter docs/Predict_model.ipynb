{
  "cells": [
    {
      "attachments": {},
      "cell_type": "markdown",
      "metadata": {
        "id": "SUQhhPWPrZKd"
      },
      "source": [
        "# [SEMES] - 볼트 이상진단 - 예측"
      ]
    },
    {
      "attachments": {},
      "cell_type": "markdown",
      "metadata": {},
      "source": [
        "## Tensorflow"
      ]
    },
    {
      "cell_type": "code",
      "execution_count": null,
      "metadata": {},
      "outputs": [],
      "source": [
        "import os\n",
        "os.environ[\"CUDA_DEVICE_ORDER\"] = \"PCI_BUS_ID\"\n",
        "os.environ[\"CUDA_VISIBLE_DEVICES\"] = \"5\"\n",
        "\n",
        "import tensorflow as tf\n",
        "import numpy as np\n",
        "import pandas as pd\n",
        "\n",
        "# excel 파일을 불러와서 , 단위로 데이터를 분리해서 담는다\n",
        "data = pd.read_csv('./price data.csv', sep=',')\n",
        "# excel 파일의 데이터를 numpy로 변환하여 xy에 저장\n",
        "xy = np.array(data, dtype=np.float32)\n",
        "\n",
        "x_data = xy[:,1:-1]\n",
        "y_data = xy[:, [-1]]\n",
        "\n",
        "# X에 4개의 변인이 담길 수 있도록 만들어주고\n",
        "X = tf.keras.Input(shape=[4], dtype=tf.float32)\n",
        "# Y에 1개의 변인이 담길 수 있도록 만들어준다\n",
        "Y = tf.keras.Input(shape=[1], dtype=tf.float32)\n",
        "\n",
        "# 가설 \n",
        "hypothesis = tf.matmul(X,W) + b\n",
        "# 비용함수\n",
        "cost = tf.reduce_mean(tf.square(hypothesis - Y))\n",
        "# 최적화 함수\n",
        "optimizer = tf.optimizers.SGD(learning_rate=0.000005)\n",
        "\n",
        "# 모델 생성\n",
        "model = tf.keras.Model(inputs=[X, Y], outputs=[cost, hypothesis])\n",
        "# 모델 컴파일\n",
        "model.compile(optimizer=optimizer, loss='mse')\n",
        "# 학습\n",
        "model.fit(x=[x_data, y_data], y=[y_data, y_data], epochs=100001, verbose=2)"
      ]
    },
    {
      "attachments": {},
      "cell_type": "markdown",
      "metadata": {},
      "source": [
        "## Pytorch"
      ]
    },
    {
      "cell_type": "code",
      "execution_count": null,
      "metadata": {},
      "outputs": [],
      "source": [
        "import torch\n",
        "import torch.nn as nn\n",
        "import numpy as np\n",
        "import pandas as pd\n",
        "\n",
        "# GPU 사용 가능 확인\n",
        "device = 'cuda:5' if torch.cuda.is_available() else 'cpu'\n",
        "print('Using {} device'.format(device))\n",
        "\n",
        "# 데이터 불러오기\n",
        "data = pd.read_csv('./price data.csv', sep=',')\n",
        "xy = np.array(data, dtype=np.float32)\n",
        "x_data = xy[:, 1:-1]\n",
        "y_data = xy[:, [-1]]\n",
        "\n",
        "# 모델 구성\n",
        "model = nn.Linear(4, 1) # input_dim=4, output_dim=1\n",
        "\n",
        "# 손실 함수 정의\n",
        "criterion = nn.MSELoss()\n",
        "\n",
        "# optimizer 정의\n",
        "optimizer = torch.optim.SGD(model.parameters(), lr=0.000005)\n",
        "\n",
        "# 학습 진행\n",
        "for epoch in range(100001):\n",
        "# numpy array를 Tensor로 변환\n",
        "    inputs = torch.from_numpy(x_data)\n",
        "    targets = torch.from_numpy(y_data)\n",
        "\n",
        "    # optimizer 초기화\n",
        "    optimizer.zero_grad()\n",
        "\n",
        "    # forward 연산\n",
        "    outputs = model(inputs)\n",
        "\n",
        "    # 손실 계산\n",
        "    loss = criterion(outputs, targets)\n",
        "\n",
        "    # backward 연산 및 가중치 갱신\n",
        "    loss.backward()\n",
        "    optimizer.step()\n",
        "\n",
        "    if epoch % 10000 == 0:\n",
        "        print('#', epoch, \"손실비용 : \", loss.item())\n",
        "        # 학습된 가중치 확인\n",
        "        print('Weight :', model.weight)\n",
        "        print('Bias :', model.bias)"
      ]
    }
  ],
  "metadata": {
    "colab": {
      "provenance": []
    },
    "kernelspec": {
      "display_name": "Python 3",
      "name": "python3"
    },
    "language_info": {
      "name": "python",
      "version": "3.9.13"
    }
  },
  "nbformat": 4,
  "nbformat_minor": 0
}
