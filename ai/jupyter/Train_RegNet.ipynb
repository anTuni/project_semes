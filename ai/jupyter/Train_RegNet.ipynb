{
  "nbformat": 4,
  "nbformat_minor": 0,
  "metadata": {
    "colab": {
      "provenance": []
    },
    "kernelspec": {
      "name": "python3",
      "display_name": "Python 3"
    },
    "language_info": {
      "name": "python"
    }
  },
  "cells": [
    {
      "cell_type": "markdown",
      "source": [
        "# [SEMES] - 볼트 이상진단 - RegNet model"
      ],
      "metadata": {
        "id": "SUQhhPWPrZKd"
      }
    },
    {
      "cell_type": "markdown",
      "source": [
        "#### model 학습을 진행할 때 필요한 라이브러리 import"
      ],
      "metadata": {
        "id": "elMHFSjb490R"
      }
    },
    {
      "cell_type": "code",
      "source": [
        "# 파이토치의 핵심 패키지(모델 구성 및 학습 등을 수행할 수 있는 기능을 제공)\n",
        "import torch\n",
        "# PyTorch에서 제공하는 신경망 모듈\n",
        "import torch.nn as nn\n",
        "# 학습에 사용되는 최적화 알고리즘\n",
        "import torch.optim as optim\n",
        "# PyTorch에서 이미지 데이터 처리와 관련된 함수와 모델들을 제공\n",
        "import torchvision import models\n",
        "# transforms 모듈은 데이터 전처리를 위한 함수들을 제공\n",
        "import torchvision.transforms as transforms\n",
        "# torchsummary는 PyTorch 모델의 요약 정보를 출력하는 라이브러리 / summary(model)로 요청\n",
        "from torchsummary import summary\n",
        "# DataLoader를 이용하여 데이터셋에서 미니배치(minibatch)를 추출 \n",
        "from torch.utils.data import DataLoader\n",
        "# 시간과 관련된 함수를 제공\n",
        "import time"
      ],
      "metadata": {
        "id": "K4OUeNTH2ihn"
      },
      "execution_count": null,
      "outputs": []
    },
    {
      "cell_type": "markdown",
      "source": [
        "#### GPU 사용을 위한 설정"
      ],
      "metadata": {
        "id": "egHCCPTm5G2T"
      }
    },
    {
      "cell_type": "code",
      "source": [
        "# GPU가 사용 가능한 경우 cuda 사용 / GPU가 사용 불가능한 경우 CPU로 초기화하여 CPU 사용\n",
        "if torch.cuda.is_available():\n",
        "    device = torch.device(\"cuda:5\")\n",
        "    print(\"GPU is available. Using cuda\")\n",
        "else:\n",
        "    device = torch.device(\"cpu\")\n",
        "    print(\"GPU is not available. Using CPU instead.\")"
      ],
      "metadata": {
        "id": "TOq_wFoqx3Qo"
      },
      "execution_count": null,
      "outputs": []
    }
  ]
}